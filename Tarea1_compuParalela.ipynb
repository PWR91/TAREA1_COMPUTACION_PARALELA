{
  "nbformat": 4,
  "nbformat_minor": 0,
  "metadata": {
    "colab": {
      "name": "Tarea1_compuParalela.ipynb",
      "provenance": [],
      "authorship_tag": "ABX9TyNnMcPTfQ+uQHPg+RMOcL2w",
      "include_colab_link": true
    },
    "kernelspec": {
      "name": "python3",
      "display_name": "Python 3"
    },
    "language_info": {
      "name": "python"
    }
  },
  "cells": [
    {
      "cell_type": "markdown",
      "metadata": {
        "id": "view-in-github",
        "colab_type": "text"
      },
      "source": [
        "<a href=\"https://colab.research.google.com/github/PWR91/TAREA1_COMPUTACION_PARALELA/blob/main/Tarea1_compuParalela.ipynb\" target=\"_parent\"><img src=\"https://colab.research.google.com/assets/colab-badge.svg\" alt=\"Open In Colab\"/></a>"
      ]
    },
    {
      "cell_type": "code",
      "metadata": {
        "id": "c3emcDgw-nh7"
      },
      "source": [
        "import  pandas as pd\n",
        "import numpy as np\n",
        "import matplotlib.pyplot as plt"
      ],
      "execution_count": 1,
      "outputs": []
    },
    {
      "cell_type": "code",
      "metadata": {
        "id": "Ah0QxIoVBnd3"
      },
      "source": [
        "df = pd.read_excel(\"/content/dataset.xlsx\")"
      ],
      "execution_count": 2,
      "outputs": []
    },
    {
      "cell_type": "code",
      "metadata": {
        "colab": {
          "base_uri": "https://localhost:8080/",
          "height": 205
        },
        "id": "iG8_5TE1CVFu",
        "outputId": "71aef912-3ba6-458c-d7fb-3a41f8ee9d07"
      },
      "source": [
        "df.head()"
      ],
      "execution_count": 3,
      "outputs": [
        {
          "output_type": "execute_result",
          "data": {
            "text/html": [
              "<div>\n",
              "<style scoped>\n",
              "    .dataframe tbody tr th:only-of-type {\n",
              "        vertical-align: middle;\n",
              "    }\n",
              "\n",
              "    .dataframe tbody tr th {\n",
              "        vertical-align: top;\n",
              "    }\n",
              "\n",
              "    .dataframe thead th {\n",
              "        text-align: right;\n",
              "    }\n",
              "</style>\n",
              "<table border=\"1\" class=\"dataframe\">\n",
              "  <thead>\n",
              "    <tr style=\"text-align: right;\">\n",
              "      <th></th>\n",
              "      <th>P</th>\n",
              "      <th>N</th>\n",
              "      <th>T_Parallel</th>\n",
              "      <th>SpeedUp</th>\n",
              "      <th>Eficiencia</th>\n",
              "    </tr>\n",
              "  </thead>\n",
              "  <tbody>\n",
              "    <tr>\n",
              "      <th>0</th>\n",
              "      <td>1</td>\n",
              "      <td>10</td>\n",
              "      <td>100.00</td>\n",
              "      <td>1.000000</td>\n",
              "      <td>1.000000</td>\n",
              "    </tr>\n",
              "    <tr>\n",
              "      <th>1</th>\n",
              "      <td>2</td>\n",
              "      <td>10</td>\n",
              "      <td>51.00</td>\n",
              "      <td>1.960784</td>\n",
              "      <td>0.980392</td>\n",
              "    </tr>\n",
              "    <tr>\n",
              "      <th>2</th>\n",
              "      <td>4</td>\n",
              "      <td>10</td>\n",
              "      <td>27.00</td>\n",
              "      <td>3.703704</td>\n",
              "      <td>0.925926</td>\n",
              "    </tr>\n",
              "    <tr>\n",
              "      <th>3</th>\n",
              "      <td>8</td>\n",
              "      <td>10</td>\n",
              "      <td>15.50</td>\n",
              "      <td>6.451613</td>\n",
              "      <td>0.806452</td>\n",
              "    </tr>\n",
              "    <tr>\n",
              "      <th>4</th>\n",
              "      <td>16</td>\n",
              "      <td>10</td>\n",
              "      <td>10.25</td>\n",
              "      <td>9.756098</td>\n",
              "      <td>0.609756</td>\n",
              "    </tr>\n",
              "  </tbody>\n",
              "</table>\n",
              "</div>"
            ],
            "text/plain": [
              "    P   N  T_Parallel   SpeedUp  Eficiencia\n",
              "0   1  10      100.00  1.000000    1.000000\n",
              "1   2  10       51.00  1.960784    0.980392\n",
              "2   4  10       27.00  3.703704    0.925926\n",
              "3   8  10       15.50  6.451613    0.806452\n",
              "4  16  10       10.25  9.756098    0.609756"
            ]
          },
          "metadata": {},
          "execution_count": 3
        }
      ]
    },
    {
      "cell_type": "code",
      "metadata": {
        "colab": {
          "base_uri": "https://localhost:8080/",
          "height": 205
        },
        "id": "Pjmsy6g8HpTN",
        "outputId": "8f012eaf-e497-47ca-ce2f-4f478a21dea0"
      },
      "source": [
        "n10 = df[(df['N']==10)]\n",
        "n10.head()    "
      ],
      "execution_count": 4,
      "outputs": [
        {
          "output_type": "execute_result",
          "data": {
            "text/html": [
              "<div>\n",
              "<style scoped>\n",
              "    .dataframe tbody tr th:only-of-type {\n",
              "        vertical-align: middle;\n",
              "    }\n",
              "\n",
              "    .dataframe tbody tr th {\n",
              "        vertical-align: top;\n",
              "    }\n",
              "\n",
              "    .dataframe thead th {\n",
              "        text-align: right;\n",
              "    }\n",
              "</style>\n",
              "<table border=\"1\" class=\"dataframe\">\n",
              "  <thead>\n",
              "    <tr style=\"text-align: right;\">\n",
              "      <th></th>\n",
              "      <th>P</th>\n",
              "      <th>N</th>\n",
              "      <th>T_Parallel</th>\n",
              "      <th>SpeedUp</th>\n",
              "      <th>Eficiencia</th>\n",
              "    </tr>\n",
              "  </thead>\n",
              "  <tbody>\n",
              "    <tr>\n",
              "      <th>0</th>\n",
              "      <td>1</td>\n",
              "      <td>10</td>\n",
              "      <td>100.00</td>\n",
              "      <td>1.000000</td>\n",
              "      <td>1.000000</td>\n",
              "    </tr>\n",
              "    <tr>\n",
              "      <th>1</th>\n",
              "      <td>2</td>\n",
              "      <td>10</td>\n",
              "      <td>51.00</td>\n",
              "      <td>1.960784</td>\n",
              "      <td>0.980392</td>\n",
              "    </tr>\n",
              "    <tr>\n",
              "      <th>2</th>\n",
              "      <td>4</td>\n",
              "      <td>10</td>\n",
              "      <td>27.00</td>\n",
              "      <td>3.703704</td>\n",
              "      <td>0.925926</td>\n",
              "    </tr>\n",
              "    <tr>\n",
              "      <th>3</th>\n",
              "      <td>8</td>\n",
              "      <td>10</td>\n",
              "      <td>15.50</td>\n",
              "      <td>6.451613</td>\n",
              "      <td>0.806452</td>\n",
              "    </tr>\n",
              "    <tr>\n",
              "      <th>4</th>\n",
              "      <td>16</td>\n",
              "      <td>10</td>\n",
              "      <td>10.25</td>\n",
              "      <td>9.756098</td>\n",
              "      <td>0.609756</td>\n",
              "    </tr>\n",
              "  </tbody>\n",
              "</table>\n",
              "</div>"
            ],
            "text/plain": [
              "    P   N  T_Parallel   SpeedUp  Eficiencia\n",
              "0   1  10      100.00  1.000000    1.000000\n",
              "1   2  10       51.00  1.960784    0.980392\n",
              "2   4  10       27.00  3.703704    0.925926\n",
              "3   8  10       15.50  6.451613    0.806452\n",
              "4  16  10       10.25  9.756098    0.609756"
            ]
          },
          "metadata": {},
          "execution_count": 4
        }
      ]
    },
    {
      "cell_type": "code",
      "metadata": {
        "colab": {
          "base_uri": "https://localhost:8080/",
          "height": 279
        },
        "id": "4B1OXfg8BV9b",
        "outputId": "65121db4-547c-4262-c1df-d49858d55ddc"
      },
      "source": [
        "x = n10['P']\n",
        "y = n10['SpeedUp']\n",
        "plt.plot(x, y, color='orange', linestyle='dashed', marker='*',\n",
        "     markerfacecolor='pink', markersize=12)\n",
        "plt.xlabel(\"P = Trabajadores Paralelos\")\n",
        "plt.ylabel(\"SpeedUp\")\n",
        "plt.show()"
      ],
      "execution_count": 5,
      "outputs": [
        {
          "output_type": "display_data",
          "data": {
            "image/png": "[encoded data removed]",
            "text/plain": [
              "<Figure size 432x288 with 1 Axes>"
            ]
          },
          "metadata": {
            "needs_background": "light"
          }
        }
      ]
    },
    {
      "cell_type": "code",
      "metadata": {
        "colab": {
          "base_uri": "https://localhost:8080/",
          "height": 279
        },
        "id": "PwRSGTtLCHP9",
        "outputId": "de7d6bb3-6d5e-4aa1-8576-5eadc88f863c"
      },
      "source": [
        "x = n10['P']\n",
        "y = n10['Eficiencia']\n",
        "plt.plot(x, y, color='orange', linestyle='dashed', marker='*', \n",
        "markerfacecolor='pink', markersize=12)\n",
        "plt.xlabel(\"P = Trabajadores Paralelos\")\n",
        "plt.ylabel(\"Eficiencia\")\n",
        "plt.show()"
      ],
      "execution_count": 6,
      "outputs": [
        {
          "output_type": "display_data",
          "data": {
            "image/png": "[encoded data removed]",
            "text/plain": [
              "<Figure size 432x288 with 1 Axes>"
            ]
          },
          "metadata": {
            "needs_background": "light"
          }
        }
      ]
    },
    {
      "cell_type": "code",
      "metadata": {
        "id": "cTXgNR2gIG5z",
        "colab": {
          "base_uri": "https://localhost:8080/",
          "height": 205
        },
        "outputId": "706f9a16-1093-4479-d638-f9b01f1adf67"
      },
      "source": [
        "p16 =  df[(df['P']==16)]\n",
        "p16.head()   "
      ],
      "execution_count": 7,
      "outputs": [
        {
          "output_type": "execute_result",
          "data": {
            "text/html": [
              "<div>\n",
              "<style scoped>\n",
              "    .dataframe tbody tr th:only-of-type {\n",
              "        vertical-align: middle;\n",
              "    }\n",
              "\n",
              "    .dataframe tbody tr th {\n",
              "        vertical-align: top;\n",
              "    }\n",
              "\n",
              "    .dataframe thead th {\n",
              "        text-align: right;\n",
              "    }\n",
              "</style>\n",
              "<table border=\"1\" class=\"dataframe\">\n",
              "  <thead>\n",
              "    <tr style=\"text-align: right;\">\n",
              "      <th></th>\n",
              "      <th>P</th>\n",
              "      <th>N</th>\n",
              "      <th>T_Parallel</th>\n",
              "      <th>SpeedUp</th>\n",
              "      <th>Eficiencia</th>\n",
              "    </tr>\n",
              "  </thead>\n",
              "  <tbody>\n",
              "    <tr>\n",
              "      <th>4</th>\n",
              "      <td>16</td>\n",
              "      <td>10</td>\n",
              "      <td>10.25</td>\n",
              "      <td>9.756098</td>\n",
              "      <td>0.609756</td>\n",
              "    </tr>\n",
              "    <tr>\n",
              "      <th>12</th>\n",
              "      <td>16</td>\n",
              "      <td>20</td>\n",
              "      <td>29.00</td>\n",
              "      <td>13.703103</td>\n",
              "      <td>0.862069</td>\n",
              "    </tr>\n",
              "    <tr>\n",
              "      <th>20</th>\n",
              "      <td>16</td>\n",
              "      <td>40</td>\n",
              "      <td>104.00</td>\n",
              "      <td>15.384615</td>\n",
              "      <td>0.961538</td>\n",
              "    </tr>\n",
              "    <tr>\n",
              "      <th>28</th>\n",
              "      <td>16</td>\n",
              "      <td>80</td>\n",
              "      <td>404.00</td>\n",
              "      <td>15.841584</td>\n",
              "      <td>0.990099</td>\n",
              "    </tr>\n",
              "    <tr>\n",
              "      <th>36</th>\n",
              "      <td>16</td>\n",
              "      <td>160</td>\n",
              "      <td>1604.00</td>\n",
              "      <td>15.960100</td>\n",
              "      <td>0.997506</td>\n",
              "    </tr>\n",
              "  </tbody>\n",
              "</table>\n",
              "</div>"
            ],
            "text/plain": [
              "     P    N  T_Parallel    SpeedUp  Eficiencia\n",
              "4   16   10       10.25   9.756098    0.609756\n",
              "12  16   20       29.00  13.703103    0.862069\n",
              "20  16   40      104.00  15.384615    0.961538\n",
              "28  16   80      404.00  15.841584    0.990099\n",
              "36  16  160     1604.00  15.960100    0.997506"
            ]
          },
          "metadata": {},
          "execution_count": 7
        }
      ]
    },
    {
      "cell_type": "code",
      "metadata": {
        "colab": {
          "base_uri": "https://localhost:8080/",
          "height": 279
        },
        "id": "6fNQ1xWOP9kN",
        "outputId": "655507a3-d824-4acd-963e-613cef81938c"
      },
      "source": [
        "x = p16['N']\n",
        "y = p16['SpeedUp']\n",
        "plt.plot(x, y, color='orange', linestyle='dashed', marker='*', \n",
        "markerfacecolor='pink', markersize=12)\n",
        "plt.xlabel(\"N= Tamaño del Problema\")\n",
        "plt.ylabel(\"SpeedUp\")\n",
        "plt.show()"
      ],
      "execution_count": 8,
      "outputs": [
        {
          "output_type": "display_data",
          "data": {
            "image/png": "[encoded data removed]",
            "text/plain": [
              "<Figure size 432x288 with 1 Axes>"
            ]
          },
          "metadata": {
            "needs_background": "light"
          }
        }
      ]
    },
    {
      "cell_type": "code",
      "metadata": {
        "colab": {
          "base_uri": "https://localhost:8080/",
          "height": 279
        },
        "id": "D7GRfiHoQTdr",
        "outputId": "3dd9d119-6b53-4dc9-a2c1-b9ae8bbaa41a"
      },
      "source": [
        "x = p16['N']\n",
        "y = p16['Eficiencia']\n",
        "plt.plot(x, y, color='orange', linestyle='dashed', marker='*', \n",
        "markerfacecolor='pink', markersize=12)\n",
        "plt.xlabel(\"N= Tamaño del Problema\")\n",
        "plt.ylabel(\"Eficiencia\")\n",
        "plt.show()"
      ],
      "execution_count": 9,
      "outputs": [
        {
          "output_type": "display_data",
          "data": {
            "image/png": "[encoded data removed]",
            "text/plain": [
              "<Figure size 432x288 with 1 Axes>"
            ]
          },
          "metadata": {
            "needs_background": "light"
          }
        }
      ]
    }
  ]
}